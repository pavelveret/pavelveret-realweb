{
 "cells": [
  {
   "cell_type": "markdown",
   "id": "fc96825c",
   "metadata": {},
   "source": [
    "# Анализ для тестового задания от RealWeb (фарма)"
   ]
  },
  {
   "cell_type": "markdown",
   "id": "4dda5a26",
   "metadata": {},
   "source": [
    "## Загружаем необходимые библиотеки и данные"
   ]
  },
  {
   "cell_type": "code",
   "execution_count": 1,
   "id": "601b3e5b",
   "metadata": {},
   "outputs": [],
   "source": [
    "import pandas as pd\n",
    "import numpy as np"
   ]
  },
  {
   "cell_type": "code",
   "execution_count": 2,
   "id": "cec9bd7e",
   "metadata": {},
   "outputs": [],
   "source": [
    "df = pd.read_csv('data.csv')"
   ]
  },
  {
   "cell_type": "code",
   "execution_count": 3,
   "id": "ec79908d",
   "metadata": {},
   "outputs": [
    {
     "data": {
      "text/html": [
       "<div>\n",
       "<style scoped>\n",
       "    .dataframe tbody tr th:only-of-type {\n",
       "        vertical-align: middle;\n",
       "    }\n",
       "\n",
       "    .dataframe tbody tr th {\n",
       "        vertical-align: top;\n",
       "    }\n",
       "\n",
       "    .dataframe thead th {\n",
       "        text-align: right;\n",
       "    }\n",
       "</style>\n",
       "<table border=\"1\" class=\"dataframe\">\n",
       "  <thead>\n",
       "    <tr style=\"text-align: right;\">\n",
       "      <th></th>\n",
       "      <th>Date</th>\n",
       "      <th>Category</th>\n",
       "      <th>Age</th>\n",
       "      <th>Gender</th>\n",
       "      <th>Sessions</th>\n",
       "      <th>Users</th>\n",
       "      <th>Goals</th>\n",
       "    </tr>\n",
       "  </thead>\n",
       "  <tbody>\n",
       "    <tr>\n",
       "      <th>0</th>\n",
       "      <td>2020-03-02</td>\n",
       "      <td>Prodazhi</td>\n",
       "      <td>25-34</td>\n",
       "      <td>female</td>\n",
       "      <td>22235</td>\n",
       "      <td>10504</td>\n",
       "      <td>185</td>\n",
       "    </tr>\n",
       "    <tr>\n",
       "      <th>1</th>\n",
       "      <td>2020-03-03</td>\n",
       "      <td>Prodazhi</td>\n",
       "      <td>25-34</td>\n",
       "      <td>female</td>\n",
       "      <td>20423</td>\n",
       "      <td>10425</td>\n",
       "      <td>181</td>\n",
       "    </tr>\n",
       "    <tr>\n",
       "      <th>2</th>\n",
       "      <td>2020-03-10</td>\n",
       "      <td>Prodazhi</td>\n",
       "      <td>25-34</td>\n",
       "      <td>female</td>\n",
       "      <td>19784</td>\n",
       "      <td>10167</td>\n",
       "      <td>205</td>\n",
       "    </tr>\n",
       "    <tr>\n",
       "      <th>3</th>\n",
       "      <td>2020-03-04</td>\n",
       "      <td>Prodazhi</td>\n",
       "      <td>25-34</td>\n",
       "      <td>female</td>\n",
       "      <td>19394</td>\n",
       "      <td>9917</td>\n",
       "      <td>174</td>\n",
       "    </tr>\n",
       "    <tr>\n",
       "      <th>4</th>\n",
       "      <td>2020-03-11</td>\n",
       "      <td>Prodazhi</td>\n",
       "      <td>25-34</td>\n",
       "      <td>female</td>\n",
       "      <td>18875</td>\n",
       "      <td>9813</td>\n",
       "      <td>214</td>\n",
       "    </tr>\n",
       "  </tbody>\n",
       "</table>\n",
       "</div>"
      ],
      "text/plain": [
       "         Date  Category    Age  Gender  Sessions  Users  Goals\n",
       "0  2020-03-02  Prodazhi  25-34  female     22235  10504    185\n",
       "1  2020-03-03  Prodazhi  25-34  female     20423  10425    181\n",
       "2  2020-03-10  Prodazhi  25-34  female     19784  10167    205\n",
       "3  2020-03-04  Prodazhi  25-34  female     19394   9917    174\n",
       "4  2020-03-11  Prodazhi  25-34  female     18875   9813    214"
      ]
     },
     "execution_count": 3,
     "metadata": {},
     "output_type": "execute_result"
    }
   ],
   "source": [
    "df.head()"
   ]
  },
  {
   "cell_type": "code",
   "execution_count": 4,
   "id": "1b51f0ae",
   "metadata": {
    "scrolled": false
   },
   "outputs": [
    {
     "data": {
      "text/html": [
       "<div>\n",
       "<style scoped>\n",
       "    .dataframe tbody tr th:only-of-type {\n",
       "        vertical-align: middle;\n",
       "    }\n",
       "\n",
       "    .dataframe tbody tr th {\n",
       "        vertical-align: top;\n",
       "    }\n",
       "\n",
       "    .dataframe thead th {\n",
       "        text-align: right;\n",
       "    }\n",
       "</style>\n",
       "<table border=\"1\" class=\"dataframe\">\n",
       "  <thead>\n",
       "    <tr style=\"text-align: right;\">\n",
       "      <th></th>\n",
       "      <th>Date</th>\n",
       "      <th>Category</th>\n",
       "      <th>Age</th>\n",
       "      <th>Gender</th>\n",
       "      <th>Sessions</th>\n",
       "      <th>Users</th>\n",
       "      <th>Goals</th>\n",
       "    </tr>\n",
       "  </thead>\n",
       "  <tbody>\n",
       "    <tr>\n",
       "      <th>6609</th>\n",
       "      <td>2020-03-30</td>\n",
       "      <td>Transport-Logistika</td>\n",
       "      <td>45-54</td>\n",
       "      <td>male</td>\n",
       "      <td>618</td>\n",
       "      <td>453</td>\n",
       "      <td>26</td>\n",
       "    </tr>\n",
       "    <tr>\n",
       "      <th>27337</th>\n",
       "      <td>2020-05-11</td>\n",
       "      <td>Domashnij-personal</td>\n",
       "      <td>45-54</td>\n",
       "      <td>male</td>\n",
       "      <td>23</td>\n",
       "      <td>15</td>\n",
       "      <td>0</td>\n",
       "    </tr>\n",
       "    <tr>\n",
       "      <th>24678</th>\n",
       "      <td>2020-05-11</td>\n",
       "      <td>Sportivnye-kluby-fitnes-salony-krasoty</td>\n",
       "      <td>35-44</td>\n",
       "      <td>male</td>\n",
       "      <td>43</td>\n",
       "      <td>36</td>\n",
       "      <td>0</td>\n",
       "    </tr>\n",
       "    <tr>\n",
       "      <th>14786</th>\n",
       "      <td>2020-03-12</td>\n",
       "      <td>Domashnij-personal</td>\n",
       "      <td>45-54</td>\n",
       "      <td>female</td>\n",
       "      <td>191</td>\n",
       "      <td>113</td>\n",
       "      <td>4</td>\n",
       "    </tr>\n",
       "    <tr>\n",
       "      <th>23930</th>\n",
       "      <td>2020-03-23</td>\n",
       "      <td>Strahovanie</td>\n",
       "      <td>18-24</td>\n",
       "      <td>female</td>\n",
       "      <td>49</td>\n",
       "      <td>27</td>\n",
       "      <td>0</td>\n",
       "    </tr>\n",
       "  </tbody>\n",
       "</table>\n",
       "</div>"
      ],
      "text/plain": [
       "             Date                                Category    Age  Gender  \\\n",
       "6609   2020-03-30                     Transport-Logistika  45-54    male   \n",
       "27337  2020-05-11                      Domashnij-personal  45-54    male   \n",
       "24678  2020-05-11  Sportivnye-kluby-fitnes-salony-krasoty  35-44    male   \n",
       "14786  2020-03-12                      Domashnij-personal  45-54  female   \n",
       "23930  2020-03-23                             Strahovanie  18-24  female   \n",
       "\n",
       "       Sessions  Users  Goals  \n",
       "6609        618    453     26  \n",
       "27337        23     15      0  \n",
       "24678        43     36      0  \n",
       "14786       191    113      4  \n",
       "23930        49     27      0  "
      ]
     },
     "execution_count": 4,
     "metadata": {},
     "output_type": "execute_result"
    }
   ],
   "source": [
    "df.sample(5)"
   ]
  },
  {
   "cell_type": "code",
   "execution_count": 11,
   "id": "c15ae9bf",
   "metadata": {},
   "outputs": [
    {
     "data": {
      "text/plain": [
       "date        object\n",
       "category    object\n",
       "age         object\n",
       "gender      object\n",
       "sessions     int64\n",
       "users        int64\n",
       "goals        int64\n",
       "dtype: object"
      ]
     },
     "execution_count": 11,
     "metadata": {},
     "output_type": "execute_result"
    }
   ],
   "source": [
    "df.dtypes"
   ]
  },
  {
   "cell_type": "markdown",
   "id": "a48a7afa",
   "metadata": {},
   "source": [
    "## Подготавливаем данные для анализа"
   ]
  },
  {
   "cell_type": "markdown",
   "id": "7b6fe547",
   "metadata": {},
   "source": [
    "- Для удобства сделаем заголовки строчными\n",
    "- Изменим тип данных для даты"
   ]
  },
  {
   "cell_type": "code",
   "execution_count": 6,
   "id": "768f3734",
   "metadata": {},
   "outputs": [
    {
     "data": {
      "text/plain": [
       "Index(['date', 'category', 'age', 'gender', 'sessions', 'users', 'goals'], dtype='object')"
      ]
     },
     "execution_count": 6,
     "metadata": {},
     "output_type": "execute_result"
    }
   ],
   "source": [
    "df.columns.str.lower()"
   ]
  },
  {
   "cell_type": "code",
   "execution_count": 10,
   "id": "00fc8713",
   "metadata": {},
   "outputs": [
    {
     "data": {
      "text/plain": [
       "Index(['date', 'category', 'age', 'gender', 'sessions', 'users', 'goals'], dtype='object')"
      ]
     },
     "execution_count": 10,
     "metadata": {},
     "output_type": "execute_result"
    }
   ],
   "source": [
    "df.columns = ['date', 'category', 'age', 'gender', 'sessions', 'users', 'goals']\n",
    "df.columns"
   ]
  },
  {
   "cell_type": "code",
   "execution_count": 12,
   "id": "2cececca",
   "metadata": {},
   "outputs": [
    {
     "data": {
      "text/plain": [
       "date        datetime64[ns]\n",
       "category            object\n",
       "age                 object\n",
       "gender              object\n",
       "sessions             int64\n",
       "users                int64\n",
       "goals                int64\n",
       "dtype: object"
      ]
     },
     "execution_count": 12,
     "metadata": {},
     "output_type": "execute_result"
    }
   ],
   "source": [
    "df['date'] = df['date'].to_numpy().astype('datetime64[M]')\n",
    "df.dtypes"
   ]
  },
  {
   "cell_type": "markdown",
   "id": "65daa98b",
   "metadata": {},
   "source": [
    "## Изучим данные"
   ]
  },
  {
   "cell_type": "code",
   "execution_count": 20,
   "id": "bbed9130",
   "metadata": {},
   "outputs": [
    {
     "data": {
      "text/html": [
       "<div>\n",
       "<style scoped>\n",
       "    .dataframe tbody tr th:only-of-type {\n",
       "        vertical-align: middle;\n",
       "    }\n",
       "\n",
       "    .dataframe tbody tr th {\n",
       "        vertical-align: top;\n",
       "    }\n",
       "\n",
       "    .dataframe thead th {\n",
       "        text-align: right;\n",
       "    }\n",
       "</style>\n",
       "<table border=\"1\" class=\"dataframe\">\n",
       "  <thead>\n",
       "    <tr style=\"text-align: right;\">\n",
       "      <th></th>\n",
       "      <th>category</th>\n",
       "      <th>count</th>\n",
       "      <th>sum</th>\n",
       "    </tr>\n",
       "  </thead>\n",
       "  <tbody>\n",
       "    <tr>\n",
       "      <th>17</th>\n",
       "      <td>Prodazhi</td>\n",
       "      <td>1092</td>\n",
       "      <td>1475542</td>\n",
       "    </tr>\n",
       "    <tr>\n",
       "      <th>4</th>\n",
       "      <td>Buhgalterija-Upravlencheskij-uchet-Finansy-pre...</td>\n",
       "      <td>1092</td>\n",
       "      <td>1007350</td>\n",
       "    </tr>\n",
       "    <tr>\n",
       "      <th>8</th>\n",
       "      <td>Informacionnye-tehnologii-Internet-Telekom</td>\n",
       "      <td>1092</td>\n",
       "      <td>870952</td>\n",
       "    </tr>\n",
       "    <tr>\n",
       "      <th>0</th>\n",
       "      <td>Administrativnyj-personal</td>\n",
       "      <td>1092</td>\n",
       "      <td>866149</td>\n",
       "    </tr>\n",
       "    <tr>\n",
       "      <th>18</th>\n",
       "      <td>Proizvodstvo</td>\n",
       "      <td>1092</td>\n",
       "      <td>827826</td>\n",
       "    </tr>\n",
       "    <tr>\n",
       "      <th>15</th>\n",
       "      <td>Nachalo-karery-Studenty</td>\n",
       "      <td>1092</td>\n",
       "      <td>804895</td>\n",
       "    </tr>\n",
       "    <tr>\n",
       "      <th>23</th>\n",
       "      <td>Transport-Logistika</td>\n",
       "      <td>1092</td>\n",
       "      <td>800535</td>\n",
       "    </tr>\n",
       "    <tr>\n",
       "      <th>22</th>\n",
       "      <td>Stroitelstvo-Nedvizhimost</td>\n",
       "      <td>1092</td>\n",
       "      <td>609710</td>\n",
       "    </tr>\n",
       "    <tr>\n",
       "      <th>26</th>\n",
       "      <td>Vysshij-menedzhment</td>\n",
       "      <td>1092</td>\n",
       "      <td>479241</td>\n",
       "    </tr>\n",
       "    <tr>\n",
       "      <th>13</th>\n",
       "      <td>Marketing-Reklama-PR</td>\n",
       "      <td>1092</td>\n",
       "      <td>438578</td>\n",
       "    </tr>\n",
       "    <tr>\n",
       "      <th>25</th>\n",
       "      <td>Upravlenie-personalom-Treningi</td>\n",
       "      <td>1091</td>\n",
       "      <td>328944</td>\n",
       "    </tr>\n",
       "    <tr>\n",
       "      <th>11</th>\n",
       "      <td>Juristy</td>\n",
       "      <td>1092</td>\n",
       "      <td>306726</td>\n",
       "    </tr>\n",
       "    <tr>\n",
       "      <th>19</th>\n",
       "      <td>Rabochij-personal</td>\n",
       "      <td>1092</td>\n",
       "      <td>286756</td>\n",
       "    </tr>\n",
       "    <tr>\n",
       "      <th>2</th>\n",
       "      <td>Banki-Investicii-Lizing</td>\n",
       "      <td>1091</td>\n",
       "      <td>270700</td>\n",
       "    </tr>\n",
       "    <tr>\n",
       "      <th>14</th>\n",
       "      <td>Medicina-Farmacevtika</td>\n",
       "      <td>1092</td>\n",
       "      <td>223722</td>\n",
       "    </tr>\n",
       "    <tr>\n",
       "      <th>10</th>\n",
       "      <td>Iskusstvo-Razvlechenija-Mass-media</td>\n",
       "      <td>1091</td>\n",
       "      <td>220745</td>\n",
       "    </tr>\n",
       "    <tr>\n",
       "      <th>3</th>\n",
       "      <td>Bezopasnost</td>\n",
       "      <td>1088</td>\n",
       "      <td>219147</td>\n",
       "    </tr>\n",
       "    <tr>\n",
       "      <th>24</th>\n",
       "      <td>Turizm-Gostinicy-Restorany</td>\n",
       "      <td>1089</td>\n",
       "      <td>204006</td>\n",
       "    </tr>\n",
       "    <tr>\n",
       "      <th>16</th>\n",
       "      <td>Nauka-Obrazovanie</td>\n",
       "      <td>1091</td>\n",
       "      <td>155332</td>\n",
       "    </tr>\n",
       "    <tr>\n",
       "      <th>27</th>\n",
       "      <td>Zakupki</td>\n",
       "      <td>1066</td>\n",
       "      <td>138136</td>\n",
       "    </tr>\n",
       "    <tr>\n",
       "      <th>1</th>\n",
       "      <td>Avtomobilnyj-biznes</td>\n",
       "      <td>1033</td>\n",
       "      <td>134528</td>\n",
       "    </tr>\n",
       "    <tr>\n",
       "      <th>5</th>\n",
       "      <td>Dobycha-Syrja</td>\n",
       "      <td>1030</td>\n",
       "      <td>125931</td>\n",
       "    </tr>\n",
       "    <tr>\n",
       "      <th>7</th>\n",
       "      <td>Gosudarstvennaja-sluzhba-nekommercheskie-organ...</td>\n",
       "      <td>1001</td>\n",
       "      <td>70177</td>\n",
       "    </tr>\n",
       "    <tr>\n",
       "      <th>20</th>\n",
       "      <td>Sportivnye-kluby-fitnes-salony-krasoty</td>\n",
       "      <td>917</td>\n",
       "      <td>59860</td>\n",
       "    </tr>\n",
       "    <tr>\n",
       "      <th>12</th>\n",
       "      <td>Konsultirovanie</td>\n",
       "      <td>921</td>\n",
       "      <td>50106</td>\n",
       "    </tr>\n",
       "    <tr>\n",
       "      <th>6</th>\n",
       "      <td>Domashnij-personal</td>\n",
       "      <td>957</td>\n",
       "      <td>44337</td>\n",
       "    </tr>\n",
       "    <tr>\n",
       "      <th>9</th>\n",
       "      <td>Installjacija-i-servis</td>\n",
       "      <td>597</td>\n",
       "      <td>23209</td>\n",
       "    </tr>\n",
       "    <tr>\n",
       "      <th>21</th>\n",
       "      <td>Strahovanie</td>\n",
       "      <td>560</td>\n",
       "      <td>18595</td>\n",
       "    </tr>\n",
       "  </tbody>\n",
       "</table>\n",
       "</div>"
      ],
      "text/plain": [
       "                                             category  count      sum\n",
       "17                                           Prodazhi   1092  1475542\n",
       "4   Buhgalterija-Upravlencheskij-uchet-Finansy-pre...   1092  1007350\n",
       "8          Informacionnye-tehnologii-Internet-Telekom   1092   870952\n",
       "0                           Administrativnyj-personal   1092   866149\n",
       "18                                       Proizvodstvo   1092   827826\n",
       "15                            Nachalo-karery-Studenty   1092   804895\n",
       "23                                Transport-Logistika   1092   800535\n",
       "22                          Stroitelstvo-Nedvizhimost   1092   609710\n",
       "26                                Vysshij-menedzhment   1092   479241\n",
       "13                               Marketing-Reklama-PR   1092   438578\n",
       "25                     Upravlenie-personalom-Treningi   1091   328944\n",
       "11                                            Juristy   1092   306726\n",
       "19                                  Rabochij-personal   1092   286756\n",
       "2                             Banki-Investicii-Lizing   1091   270700\n",
       "14                              Medicina-Farmacevtika   1092   223722\n",
       "10                 Iskusstvo-Razvlechenija-Mass-media   1091   220745\n",
       "3                                         Bezopasnost   1088   219147\n",
       "24                         Turizm-Gostinicy-Restorany   1089   204006\n",
       "16                                  Nauka-Obrazovanie   1091   155332\n",
       "27                                            Zakupki   1066   138136\n",
       "1                                 Avtomobilnyj-biznes   1033   134528\n",
       "5                                       Dobycha-Syrja   1030   125931\n",
       "7   Gosudarstvennaja-sluzhba-nekommercheskie-organ...   1001    70177\n",
       "20             Sportivnye-kluby-fitnes-salony-krasoty    917    59860\n",
       "12                                    Konsultirovanie    921    50106\n",
       "6                                  Domashnij-personal    957    44337\n",
       "9                              Installjacija-i-servis    597    23209\n",
       "21                                        Strahovanie    560    18595"
      ]
     },
     "execution_count": 20,
     "metadata": {},
     "output_type": "execute_result"
    }
   ],
   "source": [
    "# Какие у нас есть категории\n",
    "by_cat = df.groupby('category')['users'].agg(['count', 'sum']).reset_index()\n",
    "by_cat.sort_values('sum', ascending=False)"
   ]
  },
  {
   "cell_type": "code",
   "execution_count": 21,
   "id": "e13e6aed",
   "metadata": {},
   "outputs": [
    {
     "data": {
      "text/plain": [
       "0"
      ]
     },
     "execution_count": 21,
     "metadata": {},
     "output_type": "execute_result"
    }
   ],
   "source": [
    "# Проверим, что всё агрегировалось правильно\n",
    "by_cat['sum'].sum() - df['users'].sum()"
   ]
  },
  {
   "cell_type": "markdown",
   "id": "3b876751",
   "metadata": {},
   "source": [
    "## Анализ"
   ]
  },
  {
   "cell_type": "code",
   "execution_count": null,
   "id": "b5808c46",
   "metadata": {},
   "outputs": [],
   "source": []
  }
 ],
 "metadata": {
  "kernelspec": {
   "display_name": "Python 3 (ipykernel)",
   "language": "python",
   "name": "python3"
  },
  "language_info": {
   "codemirror_mode": {
    "name": "ipython",
    "version": 3
   },
   "file_extension": ".py",
   "mimetype": "text/x-python",
   "name": "python",
   "nbconvert_exporter": "python",
   "pygments_lexer": "ipython3",
   "version": "3.10.1"
  }
 },
 "nbformat": 4,
 "nbformat_minor": 5
}
